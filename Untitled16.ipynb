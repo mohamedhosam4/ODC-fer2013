{
  "nbformat": 4,
  "nbformat_minor": 0,
  "metadata": {
    "colab": {
      "provenance": [],
      "gpuType": "T4"
    },
    "kernelspec": {
      "name": "python3",
      "display_name": "Python 3"
    },
    "language_info": {
      "name": "python"
    },
    "accelerator": "GPU"
  },
  "cells": [
    {
      "cell_type": "code",
      "execution_count": 1,
      "metadata": {
        "colab": {
          "base_uri": "https://localhost:8080/"
        },
        "id": "F7Wg6ElPoWnC",
        "outputId": "f5696252-f9e0-4106-fa31-eb3054ed84d9"
      },
      "outputs": [
        {
          "output_type": "stream",
          "name": "stdout",
          "text": [
            "Dataset URL: https://www.kaggle.com/datasets/msambare/fer2013\n",
            "License(s): DbCL-1.0\n",
            "fer2013.zip: Skipping, found more recently modified local copy (use --force to force download)\n"
          ]
        }
      ],
      "source": [
        "! kaggle datasets download msambare/fer2013"
      ]
    },
    {
      "cell_type": "code",
      "source": [
        "!unzip /content/fer2013.zip"
      ],
      "metadata": {
        "colab": {
          "base_uri": "https://localhost:8080/"
        },
        "id": "cP3yaDTsof_w",
        "outputId": "bcc9aa05-ef3f-478a-eaab-0dc4b7abf1b2"
      },
      "execution_count": 2,
      "outputs": [
        {
          "output_type": "stream",
          "name": "stdout",
          "text": [
            "Archive:  /content/fer2013.zip\n",
            "replace test/angry/PrivateTest_10131363.jpg? [y]es, [n]o, [A]ll, [N]one, [r]ename: "
          ]
        }
      ]
    },
    {
      "cell_type": "code",
      "source": [
        "#Import necessary libraries\n",
        "import tensorflow as tf\n",
        "from tensorflow.keras.applications import VGG16\n",
        "from tensorflow.keras.models import Sequential\n",
        "from tensorflow.keras.layers import Conv2D, MaxPooling2D, Flatten, Dense, Dropout, BatchNormalization, GlobalAveragePooling2D\n",
        "from tensorflow.keras.preprocessing.image import ImageDataGenerator\n",
        "from sklearn.model_selection import train_test_split\n",
        "from sklearn.metrics import classification_report, confusion_matrix\n",
        "import matplotlib.pyplot as plt\n",
        "import numpy as np\n",
        "import os\n"
      ],
      "metadata": {
        "id": "lkD5mtEfps9D"
      },
      "execution_count": 3,
      "outputs": []
    },
    {
      "cell_type": "code",
      "source": [
        "\n",
        "train_ds = tf.keras.utils.image_dataset_from_directory(\n",
        "    'train',\n",
        "    color_mode='grayscale',\n",
        "    batch_size=32,\n",
        "    image_size=(48, 48),\n",
        "    shuffle=True,\n",
        ")\n",
        "\n",
        "test_ds = tf.keras.utils.image_dataset_from_directory(\n",
        "    'test',\n",
        "    color_mode='grayscale',\n",
        "    batch_size=32,\n",
        "    image_size=(48, 48),\n",
        "    shuffle=True,\n",
        ")"
      ],
      "metadata": {
        "colab": {
          "base_uri": "https://localhost:8080/"
        },
        "id": "bf-TMbZepteD",
        "outputId": "ad8e6dd6-31c9-4218-9957-b390f939b51c"
      },
      "execution_count": 4,
      "outputs": [
        {
          "output_type": "stream",
          "name": "stdout",
          "text": [
            "Found 28709 files belonging to 7 classes.\n",
            "Found 7178 files belonging to 7 classes.\n"
          ]
        }
      ]
    },
    {
      "cell_type": "code",
      "source": [
        "\n",
        "def normalize(img, label):\n",
        "    return tf.cast(img / 255.0, tf.float32), label\n",
        "\n",
        "train_ds = train_ds.map(normalize)\n",
        "test_ds = test_ds.map(normalize)\n"
      ],
      "metadata": {
        "id": "nJkG6ZQrpwSm"
      },
      "execution_count": 5,
      "outputs": []
    },
    {
      "cell_type": "code",
      "source": [
        "\n",
        "train_ds = train_ds.cache().shuffle(1000).prefetch(buffer_size=tf.data.AUTOTUNE)\n",
        "test_ds = test_ds.cache().prefetch(buffer_size=tf.data.AUTOTUNE)\n",
        "\n"
      ],
      "metadata": {
        "id": "sH3e1aTDp6cL"
      },
      "execution_count": 6,
      "outputs": []
    },
    {
      "cell_type": "code",
      "source": [
        "\n",
        "y_train = np.concatenate([y for x, y in train_ds], axis=0)\n",
        "from sklearn.utils import class_weight\n",
        "class_weights = class_weight.compute_class_weight(\n",
        "    'balanced',\n",
        "    classes=np.unique(y_train),\n",
        "    y=y_train\n",
        ")"
      ],
      "metadata": {
        "id": "IHej3n-ip6eO"
      },
      "execution_count": 7,
      "outputs": []
    },
    {
      "cell_type": "code",
      "source": [
        "class_weight_dict = dict(enumerate(class_weights))\n"
      ],
      "metadata": {
        "id": "M3ujhzYMp6g-"
      },
      "execution_count": 8,
      "outputs": []
    },
    {
      "cell_type": "code",
      "source": [
        "#Load the VGG16 model with pre-trained weights (on ImageNet), excluding the top classification layers\n",
        "vgg_base = VGG16(include_top=False, input_shape=(48, 48, 3))\n",
        "\n",
        "# Freeze the layers of VGG16\n",
        "vgg_base.trainable = False"
      ],
      "metadata": {
        "id": "zK-yVT8ap6i6"
      },
      "execution_count": 9,
      "outputs": []
    },
    {
      "cell_type": "code",
      "source": [
        "model = tf.keras.models.Sequential([\n",
        "    # Convert grayscale FER2013 images (48x48) to RGB using a Conv2D layer (1x1 kernel)\n",
        "    tf.keras.layers.Input(shape=(48, 48, 1)),\n",
        "    tf.keras.layers.Conv2D(3, (1, 1), activation='relu', padding='same'),  # Convert grayscale to RGB\n",
        "\n",
        "    # Add the VGG16 model (pre-trained on ImageNet)\n",
        "    vgg_base,\n",
        "\n",
        "    # Add Global Average Pooling to reduce dimensionality\n",
        "    GlobalAveragePooling2D(),\n",
        "\n",
        "    # Fully connected layers with dropout\n",
        "    tf.keras.layers.Dense(512, activation='relu'),  # Increased neuron count for more capacity\n",
        "    BatchNormalization(),\n",
        "    tf.keras.layers.Dropout(0.5),  # Increased dropout rate to prevent overfitting\n",
        "\n",
        "    tf.keras.layers.Dense(256, activation='relu'),\n",
        "    BatchNormalization(),\n",
        "    tf.keras.layers.Dropout(0.4),  # Slightly reduced dropout rate for a better balance\n",
        "\n",
        "    # Final output layer with 7 categories (for the 7 facial expressions in FER2013 dataset)\n",
        "    tf.keras.layers.Dense(7, activation='softmax')  # 7 categories for expressions\n",
        "])\n"
      ],
      "metadata": {
        "id": "QeG24QuRp6mW"
      },
      "execution_count": 10,
      "outputs": []
    },
    {
      "cell_type": "code",
      "source": [
        "\n",
        "model.compile(\n",
        "    optimizer='adam',\n",
        "    loss='sparse_categorical_crossentropy',\n",
        "    metrics=['accuracy']\n",
        ")"
      ],
      "metadata": {
        "id": "IUwn2zI_qMdy"
      },
      "execution_count": 11,
      "outputs": []
    },
    {
      "cell_type": "code",
      "source": [
        "\n",
        "data_augmentation = tf.keras.Sequential([\n",
        "    tf.keras.layers.RandomFlip(\"horizontal\"),\n",
        "    tf.keras.layers.RandomRotation(0.1),\n",
        "    tf.keras.layers.RandomZoom(0.1),\n",
        "])\n"
      ],
      "metadata": {
        "id": "tyMfw9sjqMf9"
      },
      "execution_count": 12,
      "outputs": []
    },
    {
      "cell_type": "code",
      "source": [
        "\n",
        "train_ds = train_ds.map(lambda x, y: (data_augmentation(x), y))\n",
        "\n",
        "from tensorflow.keras.callbacks import EarlyStopping\n",
        "\n",
        "early_stopping = EarlyStopping(monitor='val_loss', patience=15, restore_best_weights=True)\n"
      ],
      "metadata": {
        "id": "6hgXIl-5qMjV"
      },
      "execution_count": 13,
      "outputs": []
    },
    {
      "cell_type": "code",
      "source": [
        "\n",
        "history = model.fit(\n",
        "    train_ds,\n",
        "    validation_data=test_ds,\n",
        "    epochs=100,\n",
        "    class_weight=class_weight_dict,\n",
        "    callbacks=[early_stopping]\n",
        ")\n"
      ],
      "metadata": {
        "colab": {
          "base_uri": "https://localhost:8080/"
        },
        "id": "annUkBSaqUdg",
        "outputId": "9eb88a69-0982-43bb-ab74-a6d4227699cf"
      },
      "execution_count": 15,
      "outputs": [
        {
          "output_type": "stream",
          "name": "stdout",
          "text": [
            "Epoch 1/100\n",
            "\u001b[1m898/898\u001b[0m \u001b[32m━━━━━━━━━━━━━━━━━━━━\u001b[0m\u001b[37m\u001b[0m \u001b[1m46s\u001b[0m 38ms/step - accuracy: 0.1676 - loss: 2.4201 - val_accuracy: 0.2388 - val_loss: 1.8550\n",
            "Epoch 2/100\n",
            "\u001b[1m898/898\u001b[0m \u001b[32m━━━━━━━━━━━━━━━━━━━━\u001b[0m\u001b[37m\u001b[0m \u001b[1m26s\u001b[0m 29ms/step - accuracy: 0.1857 - loss: 1.9809 - val_accuracy: 0.1801 - val_loss: 1.9785\n",
            "Epoch 3/100\n",
            "\u001b[1m898/898\u001b[0m \u001b[32m━━━━━━━━━━━━━━━━━━━━\u001b[0m\u001b[37m\u001b[0m \u001b[1m26s\u001b[0m 29ms/step - accuracy: 0.2172 - loss: 1.8841 - val_accuracy: 0.1739 - val_loss: 2.0991\n",
            "Epoch 4/100\n",
            "\u001b[1m898/898\u001b[0m \u001b[32m━━━━━━━━━━━━━━━━━━━━\u001b[0m\u001b[37m\u001b[0m \u001b[1m26s\u001b[0m 29ms/step - accuracy: 0.2235 - loss: 1.8730 - val_accuracy: 0.2490 - val_loss: 1.8472\n",
            "Epoch 5/100\n",
            "\u001b[1m898/898\u001b[0m \u001b[32m━━━━━━━━━━━━━━━━━━━━\u001b[0m\u001b[37m\u001b[0m \u001b[1m26s\u001b[0m 29ms/step - accuracy: 0.2387 - loss: 1.8571 - val_accuracy: 0.2864 - val_loss: 1.7902\n",
            "Epoch 6/100\n",
            "\u001b[1m898/898\u001b[0m \u001b[32m━━━━━━━━━━━━━━━━━━━━\u001b[0m\u001b[37m\u001b[0m \u001b[1m26s\u001b[0m 29ms/step - accuracy: 0.2467 - loss: 1.8153 - val_accuracy: 0.2992 - val_loss: 1.7552\n",
            "Epoch 7/100\n",
            "\u001b[1m898/898\u001b[0m \u001b[32m━━━━━━━━━━━━━━━━━━━━\u001b[0m\u001b[37m\u001b[0m \u001b[1m41s\u001b[0m 29ms/step - accuracy: 0.2560 - loss: 1.7948 - val_accuracy: 0.2758 - val_loss: 1.8047\n",
            "Epoch 8/100\n",
            "\u001b[1m898/898\u001b[0m \u001b[32m━━━━━━━━━━━━━━━━━━━━\u001b[0m\u001b[37m\u001b[0m \u001b[1m26s\u001b[0m 29ms/step - accuracy: 0.2621 - loss: 1.7873 - val_accuracy: 0.2715 - val_loss: 1.7808\n",
            "Epoch 9/100\n",
            "\u001b[1m898/898\u001b[0m \u001b[32m━━━━━━━━━━━━━━━━━━━━\u001b[0m\u001b[37m\u001b[0m \u001b[1m41s\u001b[0m 29ms/step - accuracy: 0.2721 - loss: 1.7730 - val_accuracy: 0.3401 - val_loss: 1.6835\n",
            "Epoch 10/100\n",
            "\u001b[1m898/898\u001b[0m \u001b[32m━━━━━━━━━━━━━━━━━━━━\u001b[0m\u001b[37m\u001b[0m \u001b[1m26s\u001b[0m 29ms/step - accuracy: 0.2789 - loss: 1.7418 - val_accuracy: 0.3589 - val_loss: 1.6536\n",
            "Epoch 11/100\n",
            "\u001b[1m898/898\u001b[0m \u001b[32m━━━━━━━━━━━━━━━━━━━━\u001b[0m\u001b[37m\u001b[0m \u001b[1m26s\u001b[0m 29ms/step - accuracy: 0.2881 - loss: 1.7541 - val_accuracy: 0.3182 - val_loss: 1.7533\n",
            "Epoch 12/100\n",
            "\u001b[1m898/898\u001b[0m \u001b[32m━━━━━━━━━━━━━━━━━━━━\u001b[0m\u001b[37m\u001b[0m \u001b[1m26s\u001b[0m 29ms/step - accuracy: 0.3019 - loss: 1.7569 - val_accuracy: 0.3101 - val_loss: 1.7421\n",
            "Epoch 13/100\n",
            "\u001b[1m898/898\u001b[0m \u001b[32m━━━━━━━━━━━━━━━━━━━━\u001b[0m\u001b[37m\u001b[0m \u001b[1m42s\u001b[0m 29ms/step - accuracy: 0.2937 - loss: 1.7328 - val_accuracy: 0.3522 - val_loss: 1.6392\n",
            "Epoch 14/100\n",
            "\u001b[1m898/898\u001b[0m \u001b[32m━━━━━━━━━━━━━━━━━━━━\u001b[0m\u001b[37m\u001b[0m \u001b[1m27s\u001b[0m 30ms/step - accuracy: 0.2846 - loss: 1.7342 - val_accuracy: 0.3410 - val_loss: 1.6507\n",
            "Epoch 15/100\n",
            "\u001b[1m898/898\u001b[0m \u001b[32m━━━━━━━━━━━━━━━━━━━━\u001b[0m\u001b[37m\u001b[0m \u001b[1m26s\u001b[0m 29ms/step - accuracy: 0.2995 - loss: 1.7383 - val_accuracy: 0.3314 - val_loss: 1.6892\n",
            "Epoch 16/100\n",
            "\u001b[1m898/898\u001b[0m \u001b[32m━━━━━━━━━━━━━━━━━━━━\u001b[0m\u001b[37m\u001b[0m \u001b[1m26s\u001b[0m 29ms/step - accuracy: 0.3070 - loss: 1.6961 - val_accuracy: 0.3204 - val_loss: 1.6862\n",
            "Epoch 17/100\n",
            "\u001b[1m898/898\u001b[0m \u001b[32m━━━━━━━━━━━━━━━━━━━━\u001b[0m\u001b[37m\u001b[0m \u001b[1m26s\u001b[0m 29ms/step - accuracy: 0.3037 - loss: 1.7016 - val_accuracy: 0.3596 - val_loss: 1.6251\n",
            "Epoch 18/100\n",
            "\u001b[1m898/898\u001b[0m \u001b[32m━━━━━━━━━━━━━━━━━━━━\u001b[0m\u001b[37m\u001b[0m \u001b[1m41s\u001b[0m 29ms/step - accuracy: 0.3136 - loss: 1.6918 - val_accuracy: 0.3107 - val_loss: 1.7169\n",
            "Epoch 19/100\n",
            "\u001b[1m898/898\u001b[0m \u001b[32m━━━━━━━━━━━━━━━━━━━━\u001b[0m\u001b[37m\u001b[0m \u001b[1m27s\u001b[0m 29ms/step - accuracy: 0.3052 - loss: 1.6857 - val_accuracy: 0.3479 - val_loss: 1.6536\n",
            "Epoch 20/100\n",
            "\u001b[1m898/898\u001b[0m \u001b[32m━━━━━━━━━━━━━━━━━━━━\u001b[0m\u001b[37m\u001b[0m \u001b[1m40s\u001b[0m 29ms/step - accuracy: 0.3149 - loss: 1.6635 - val_accuracy: 0.3424 - val_loss: 1.6693\n",
            "Epoch 21/100\n",
            "\u001b[1m898/898\u001b[0m \u001b[32m━━━━━━━━━━━━━━━━━━━━\u001b[0m\u001b[37m\u001b[0m \u001b[1m26s\u001b[0m 29ms/step - accuracy: 0.3103 - loss: 1.6919 - val_accuracy: 0.3454 - val_loss: 1.6691\n",
            "Epoch 22/100\n",
            "\u001b[1m898/898\u001b[0m \u001b[32m━━━━━━━━━━━━━━━━━━━━\u001b[0m\u001b[37m\u001b[0m \u001b[1m26s\u001b[0m 29ms/step - accuracy: 0.3202 - loss: 1.6953 - val_accuracy: 0.3656 - val_loss: 1.6224\n",
            "Epoch 23/100\n",
            "\u001b[1m898/898\u001b[0m \u001b[32m━━━━━━━━━━━━━━━━━━━━\u001b[0m\u001b[37m\u001b[0m \u001b[1m26s\u001b[0m 29ms/step - accuracy: 0.3098 - loss: 1.6942 - val_accuracy: 0.3532 - val_loss: 1.6444\n",
            "Epoch 24/100\n",
            "\u001b[1m898/898\u001b[0m \u001b[32m━━━━━━━━━━━━━━━━━━━━\u001b[0m\u001b[37m\u001b[0m \u001b[1m26s\u001b[0m 29ms/step - accuracy: 0.3145 - loss: 1.6795 - val_accuracy: 0.3608 - val_loss: 1.6345\n",
            "Epoch 25/100\n",
            "\u001b[1m898/898\u001b[0m \u001b[32m━━━━━━━━━━━━━━━━━━━━\u001b[0m\u001b[37m\u001b[0m \u001b[1m41s\u001b[0m 29ms/step - accuracy: 0.3270 - loss: 1.6610 - val_accuracy: 0.3536 - val_loss: 1.6407\n",
            "Epoch 26/100\n",
            "\u001b[1m898/898\u001b[0m \u001b[32m━━━━━━━━━━━━━━━━━━━━\u001b[0m\u001b[37m\u001b[0m \u001b[1m41s\u001b[0m 29ms/step - accuracy: 0.3175 - loss: 1.6854 - val_accuracy: 0.3611 - val_loss: 1.6174\n",
            "Epoch 27/100\n",
            "\u001b[1m898/898\u001b[0m \u001b[32m━━━━━━━━━━━━━━━━━━━━\u001b[0m\u001b[37m\u001b[0m \u001b[1m26s\u001b[0m 29ms/step - accuracy: 0.3164 - loss: 1.6925 - val_accuracy: 0.3699 - val_loss: 1.6032\n",
            "Epoch 28/100\n",
            "\u001b[1m898/898\u001b[0m \u001b[32m━━━━━━━━━━━━━━━━━━━━\u001b[0m\u001b[37m\u001b[0m \u001b[1m41s\u001b[0m 29ms/step - accuracy: 0.3231 - loss: 1.6587 - val_accuracy: 0.3448 - val_loss: 1.6655\n",
            "Epoch 29/100\n",
            "\u001b[1m898/898\u001b[0m \u001b[32m━━━━━━━━━━━━━━━━━━━━\u001b[0m\u001b[37m\u001b[0m \u001b[1m41s\u001b[0m 29ms/step - accuracy: 0.3119 - loss: 1.6815 - val_accuracy: 0.3757 - val_loss: 1.6017\n",
            "Epoch 30/100\n",
            "\u001b[1m898/898\u001b[0m \u001b[32m━━━━━━━━━━━━━━━━━━━━\u001b[0m\u001b[37m\u001b[0m \u001b[1m40s\u001b[0m 29ms/step - accuracy: 0.3193 - loss: 1.6559 - val_accuracy: 0.3449 - val_loss: 1.6667\n",
            "Epoch 31/100\n",
            "\u001b[1m898/898\u001b[0m \u001b[32m━━━━━━━━━━━━━━━━━━━━\u001b[0m\u001b[37m\u001b[0m \u001b[1m41s\u001b[0m 29ms/step - accuracy: 0.3166 - loss: 1.6648 - val_accuracy: 0.3718 - val_loss: 1.6183\n",
            "Epoch 32/100\n",
            "\u001b[1m898/898\u001b[0m \u001b[32m━━━━━━━━━━━━━━━━━━━━\u001b[0m\u001b[37m\u001b[0m \u001b[1m26s\u001b[0m 29ms/step - accuracy: 0.3225 - loss: 1.6692 - val_accuracy: 0.3663 - val_loss: 1.6203\n",
            "Epoch 33/100\n",
            "\u001b[1m898/898\u001b[0m \u001b[32m━━━━━━━━━━━━━━━━━━━━\u001b[0m\u001b[37m\u001b[0m \u001b[1m26s\u001b[0m 29ms/step - accuracy: 0.3210 - loss: 1.6417 - val_accuracy: 0.3617 - val_loss: 1.6285\n",
            "Epoch 34/100\n",
            "\u001b[1m898/898\u001b[0m \u001b[32m━━━━━━━━━━━━━━━━━━━━\u001b[0m\u001b[37m\u001b[0m \u001b[1m26s\u001b[0m 29ms/step - accuracy: 0.3220 - loss: 1.6432 - val_accuracy: 0.3919 - val_loss: 1.5760\n",
            "Epoch 35/100\n",
            "\u001b[1m898/898\u001b[0m \u001b[32m━━━━━━━━━━━━━━━━━━━━\u001b[0m\u001b[37m\u001b[0m \u001b[1m41s\u001b[0m 29ms/step - accuracy: 0.3266 - loss: 1.6452 - val_accuracy: 0.3512 - val_loss: 1.6481\n",
            "Epoch 36/100\n",
            "\u001b[1m898/898\u001b[0m \u001b[32m━━━━━━━━━━━━━━━━━━━━\u001b[0m\u001b[37m\u001b[0m \u001b[1m26s\u001b[0m 29ms/step - accuracy: 0.3110 - loss: 1.6546 - val_accuracy: 0.3746 - val_loss: 1.6067\n",
            "Epoch 37/100\n",
            "\u001b[1m898/898\u001b[0m \u001b[32m━━━━━━━━━━━━━━━━━━━━\u001b[0m\u001b[37m\u001b[0m \u001b[1m41s\u001b[0m 29ms/step - accuracy: 0.3193 - loss: 1.6620 - val_accuracy: 0.3617 - val_loss: 1.6257\n",
            "Epoch 38/100\n",
            "\u001b[1m898/898\u001b[0m \u001b[32m━━━━━━━━━━━━━━━━━━━━\u001b[0m\u001b[37m\u001b[0m \u001b[1m26s\u001b[0m 29ms/step - accuracy: 0.3257 - loss: 1.6360 - val_accuracy: 0.3532 - val_loss: 1.6542\n",
            "Epoch 39/100\n",
            "\u001b[1m898/898\u001b[0m \u001b[32m━━━━━━━━━━━━━━━━━━━━\u001b[0m\u001b[37m\u001b[0m \u001b[1m41s\u001b[0m 29ms/step - accuracy: 0.3196 - loss: 1.6415 - val_accuracy: 0.3768 - val_loss: 1.5930\n",
            "Epoch 40/100\n",
            "\u001b[1m898/898\u001b[0m \u001b[32m━━━━━━━━━━━━━━━━━━━━\u001b[0m\u001b[37m\u001b[0m \u001b[1m41s\u001b[0m 29ms/step - accuracy: 0.3256 - loss: 1.6665 - val_accuracy: 0.3731 - val_loss: 1.6142\n",
            "Epoch 41/100\n",
            "\u001b[1m898/898\u001b[0m \u001b[32m━━━━━━━━━━━━━━━━━━━━\u001b[0m\u001b[37m\u001b[0m \u001b[1m26s\u001b[0m 29ms/step - accuracy: 0.3200 - loss: 1.6427 - val_accuracy: 0.3753 - val_loss: 1.5980\n",
            "Epoch 42/100\n",
            "\u001b[1m898/898\u001b[0m \u001b[32m━━━━━━━━━━━━━━━━━━━━\u001b[0m\u001b[37m\u001b[0m \u001b[1m26s\u001b[0m 29ms/step - accuracy: 0.3237 - loss: 1.6369 - val_accuracy: 0.3724 - val_loss: 1.6012\n",
            "Epoch 43/100\n",
            "\u001b[1m898/898\u001b[0m \u001b[32m━━━━━━━━━━━━━━━━━━━━\u001b[0m\u001b[37m\u001b[0m \u001b[1m26s\u001b[0m 29ms/step - accuracy: 0.3173 - loss: 1.6472 - val_accuracy: 0.3732 - val_loss: 1.5977\n",
            "Epoch 44/100\n",
            "\u001b[1m898/898\u001b[0m \u001b[32m━━━━━━━━━━━━━━━━━━━━\u001b[0m\u001b[37m\u001b[0m \u001b[1m26s\u001b[0m 29ms/step - accuracy: 0.3347 - loss: 1.6247 - val_accuracy: 0.3672 - val_loss: 1.6144\n",
            "Epoch 45/100\n",
            "\u001b[1m898/898\u001b[0m \u001b[32m━━━━━━━━━━━━━━━━━━━━\u001b[0m\u001b[37m\u001b[0m \u001b[1m41s\u001b[0m 29ms/step - accuracy: 0.3304 - loss: 1.6455 - val_accuracy: 0.3597 - val_loss: 1.6321\n",
            "Epoch 46/100\n",
            "\u001b[1m898/898\u001b[0m \u001b[32m━━━━━━━━━━━━━━━━━━━━\u001b[0m\u001b[37m\u001b[0m \u001b[1m26s\u001b[0m 29ms/step - accuracy: 0.3296 - loss: 1.6315 - val_accuracy: 0.3643 - val_loss: 1.6189\n",
            "Epoch 47/100\n",
            "\u001b[1m898/898\u001b[0m \u001b[32m━━━━━━━━━━━━━━━━━━━━\u001b[0m\u001b[37m\u001b[0m \u001b[1m26s\u001b[0m 29ms/step - accuracy: 0.3213 - loss: 1.6367 - val_accuracy: 0.3635 - val_loss: 1.6387\n",
            "Epoch 48/100\n",
            "\u001b[1m898/898\u001b[0m \u001b[32m━━━━━━━━━━━━━━━━━━━━\u001b[0m\u001b[37m\u001b[0m \u001b[1m26s\u001b[0m 29ms/step - accuracy: 0.3275 - loss: 1.6328 - val_accuracy: 0.3766 - val_loss: 1.5956\n",
            "Epoch 49/100\n",
            "\u001b[1m898/898\u001b[0m \u001b[32m━━━━━━━━━━━━━━━━━━━━\u001b[0m\u001b[37m\u001b[0m \u001b[1m41s\u001b[0m 29ms/step - accuracy: 0.3287 - loss: 1.6354 - val_accuracy: 0.3745 - val_loss: 1.6011\n"
          ]
        }
      ]
    },
    {
      "cell_type": "code",
      "source": [
        "\n",
        "test_loss, test_accuracy = model.evaluate(test_ds)\n",
        "print(f\"Test Accuracy: {test_accuracy * 100:.2f}%\")\n"
      ],
      "metadata": {
        "colab": {
          "base_uri": "https://localhost:8080/"
        },
        "id": "rKeH80xmqUfi",
        "outputId": "d710c609-2359-438d-d788-0838daf3a065"
      },
      "execution_count": 16,
      "outputs": [
        {
          "output_type": "stream",
          "name": "stdout",
          "text": [
            "\u001b[1m225/225\u001b[0m \u001b[32m━━━━━━━━━━━━━━━━━━━━\u001b[0m\u001b[37m\u001b[0m \u001b[1m3s\u001b[0m 12ms/step - accuracy: 0.3943 - loss: 1.5707\n",
            "Test Accuracy: 39.19%\n"
          ]
        }
      ]
    },
    {
      "cell_type": "code",
      "source": [
        "\n",
        "y_pred = model.predict(test_ds)\n",
        "y_pred = np.argmax(y_pred, axis=1)\n",
        "\n",
        "y_true = np.concatenate([y for x, y in test_ds], axis=0)\n",
        "print(classification_report(y_true, y_pred))\n"
      ],
      "metadata": {
        "colab": {
          "base_uri": "https://localhost:8080/"
        },
        "id": "hA1RyHKDqUhn",
        "outputId": "17a6a36a-4dbe-45a1-dc8d-6bc30c79887b"
      },
      "execution_count": 17,
      "outputs": [
        {
          "output_type": "stream",
          "name": "stdout",
          "text": [
            "\u001b[1m225/225\u001b[0m \u001b[32m━━━━━━━━━━━━━━━━━━━━\u001b[0m\u001b[37m\u001b[0m \u001b[1m3s\u001b[0m 13ms/step\n",
            "              precision    recall  f1-score   support\n",
            "\n",
            "           0       0.30      0.22      0.26       958\n",
            "           1       0.11      0.35      0.16       111\n",
            "           2       0.30      0.10      0.15      1024\n",
            "           3       0.48      0.59      0.53      1774\n",
            "           4       0.35      0.47      0.40      1233\n",
            "           5       0.38      0.29      0.33      1247\n",
            "           6       0.47      0.57      0.52       831\n",
            "\n",
            "    accuracy                           0.39      7178\n",
            "   macro avg       0.34      0.37      0.34      7178\n",
            "weighted avg       0.38      0.39      0.38      7178\n",
            "\n"
          ]
        }
      ]
    },
    {
      "cell_type": "code",
      "source": [
        "model.save(\"fer2013_vgg16_model.h5\")\n"
      ],
      "metadata": {
        "colab": {
          "base_uri": "https://localhost:8080/"
        },
        "id": "CcLIG-W6qUlG",
        "outputId": "11713fa5-66fb-4940-8480-578a1d8a15ba"
      },
      "execution_count": 18,
      "outputs": [
        {
          "output_type": "stream",
          "name": "stderr",
          "text": [
            "WARNING:absl:You are saving your model as an HDF5 file via `model.save()` or `keras.saving.save_model(model)`. This file format is considered legacy. We recommend using instead the native Keras format, e.g. `model.save('my_model.keras')` or `keras.saving.save_model(model, 'my_model.keras')`. \n"
          ]
        }
      ]
    },
    {
      "cell_type": "code",
      "source": [
        "\n",
        "plt.plot(history.history['accuracy'], label='accuracy')\n",
        "plt.plot(history.history['val_accuracy'], label = 'val_accuracy')\n",
        "plt.xlabel('Epoch')\n",
        "plt.ylabel('Accuracy')\n",
        "plt.ylim([0, 1])\n",
        "plt.legend(loc='lower right')\n",
        "plt.show()"
      ],
      "metadata": {
        "colab": {
          "base_uri": "https://localhost:8080/",
          "height": 455
        },
        "id": "knZh8mq4qhvG",
        "outputId": "bfb5e34e-581c-4a86-e407-3ded8ac979bb"
      },
      "execution_count": 19,
      "outputs": [
        {
          "output_type": "display_data",
          "data": {
            "text/plain": [
              "<Figure size 640x480 with 1 Axes>"
            ],
            "image/png": "[encoded data removed]"
          },
          "metadata": {}
        }
      ]
    },
    {
      "cell_type": "code",
      "source": [],
      "metadata": {
        "id": "84UOICY8srqU"
      },
      "execution_count": null,
      "outputs": []
    }
  ]
}